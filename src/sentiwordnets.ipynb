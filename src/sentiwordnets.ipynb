{
 "cells": [
  {
   "cell_type": "code",
   "execution_count": 69,
   "metadata": {},
   "outputs": [],
   "source": [
    "import nltk\n",
    "from nltk.corpus import wordnet as wn\n",
    "from nltk.corpus import sentiwordnet as swn"
   ]
  },
  {
   "cell_type": "code",
   "execution_count": 70,
   "metadata": {},
   "outputs": [
    {
     "name": "stdout",
     "output_type": "stream",
     "text": [
      "[nltk_data] Downloading package sentiwordnet to\n",
      "[nltk_data]     /home/shivam/nltk_data...\n",
      "[nltk_data]   Package sentiwordnet is already up-to-date!\n",
      "[nltk_data] Downloading package wordnet to /home/shivam/nltk_data...\n",
      "[nltk_data]   Package wordnet is already up-to-date!\n"
     ]
    },
    {
     "data": {
      "text/plain": [
       "True"
      ]
     },
     "execution_count": 70,
     "metadata": {},
     "output_type": "execute_result"
    }
   ],
   "source": [
    "nltk.download(\"sentiwordnet\")\n",
    "nltk.download(\"wordnet\")"
   ]
  },
  {
   "cell_type": "code",
   "execution_count": 78,
   "metadata": {},
   "outputs": [],
   "source": [
    "w = wn.synsets(\"idle\",'a')\n",
    "bs = w[1]"
   ]
  },
  {
   "cell_type": "code",
   "execution_count": 79,
   "metadata": {},
   "outputs": [
    {
     "name": "stdout",
     "output_type": "stream",
     "text": [
      "['baseless gossip', 'the allegations proved groundless', 'idle fears', 'unfounded suspicions', 'unwarranted jealousy']\n"
     ]
    }
   ],
   "source": [
    "print(bs.examples())"
   ]
  },
  {
   "cell_type": "code",
   "execution_count": 80,
   "metadata": {},
   "outputs": [
    {
     "data": {
      "text/plain": [
       "'without a basis in reason or fact'"
      ]
     },
     "execution_count": 80,
     "metadata": {},
     "output_type": "execute_result"
    }
   ],
   "source": [
    "bs.definition()"
   ]
  },
  {
   "cell_type": "code",
   "execution_count": 84,
   "metadata": {},
   "outputs": [
    {
     "data": {
      "text/plain": [
       "[Lemma('baseless.s.01.baseless'),\n",
       " Lemma('baseless.s.01.groundless'),\n",
       " Lemma('baseless.s.01.idle'),\n",
       " Lemma('baseless.s.01.unfounded'),\n",
       " Lemma('baseless.s.01.unwarranted'),\n",
       " Lemma('baseless.s.01.wild')]"
      ]
     },
     "execution_count": 84,
     "metadata": {},
     "output_type": "execute_result"
    }
   ],
   "source": [
    "bs.lemmas()"
   ]
  },
  {
   "cell_type": "code",
   "execution_count": 52,
   "metadata": {},
   "outputs": [],
   "source": [
    "sad = swn.senti_synset(\"sad.a.01\")"
   ]
  },
  {
   "cell_type": "code",
   "execution_count": 58,
   "metadata": {},
   "outputs": [
    {
     "name": "stdout",
     "output_type": "stream",
     "text": [
      "0.125\n",
      "0.75\n",
      "0.125\n"
     ]
    }
   ],
   "source": [
    "print(sad.pos_score())\n",
    "print(sad.neg_score())\n",
    "print(sad.obj_score())"
   ]
  },
  {
   "cell_type": "code",
   "execution_count": 9,
   "metadata": {},
   "outputs": [
    {
     "name": "stdout",
     "output_type": "stream",
     "text": [
      "<sad.a.01: PosScore=0.125 NegScore=0.75>\n"
     ]
    }
   ],
   "source": [
    "print(sad)"
   ]
  },
  {
   "cell_type": "code",
   "execution_count": 33,
   "metadata": {},
   "outputs": [
    {
     "data": {
      "text/plain": [
       "[SentiSynset('fast.n.01'),\n",
       " SentiSynset('fast.v.01'),\n",
       " SentiSynset('fast.v.02'),\n",
       " SentiSynset('fast.a.01'),\n",
       " SentiSynset('fast.a.02'),\n",
       " SentiSynset('fast.a.03'),\n",
       " SentiSynset('fast.s.04'),\n",
       " SentiSynset('fast.s.05'),\n",
       " SentiSynset('debauched.s.01'),\n",
       " SentiSynset('flying.s.02'),\n",
       " SentiSynset('fast.s.08'),\n",
       " SentiSynset('firm.s.10'),\n",
       " SentiSynset('fast.s.10'),\n",
       " SentiSynset('fast.r.01'),\n",
       " SentiSynset('fast.r.02')]"
      ]
     },
     "execution_count": 33,
     "metadata": {},
     "output_type": "execute_result"
    }
   ],
   "source": [
    "list(swn.senti_synsets(\"fast\"))"
   ]
  },
  {
   "cell_type": "code",
   "execution_count": 34,
   "metadata": {},
   "outputs": [],
   "source": [
    "all = swn.all_senti_synsets()"
   ]
  },
  {
   "cell_type": "code",
   "execution_count": 35,
   "metadata": {},
   "outputs": [
    {
     "data": {
      "text/plain": [
       "<generator object SentiWordNetCorpusReader.all_senti_synsets at 0x7f767b8e5e60>"
      ]
     },
     "execution_count": 35,
     "metadata": {},
     "output_type": "execute_result"
    }
   ],
   "source": [
    "all"
   ]
  },
  {
   "cell_type": "code",
   "execution_count": 36,
   "metadata": {},
   "outputs": [],
   "source": [
    "a = list(all)"
   ]
  },
  {
   "cell_type": "code",
   "execution_count": 37,
   "metadata": {},
   "outputs": [
    {
     "data": {
      "text/plain": [
       "[SentiSynset('able.a.01'),\n",
       " SentiSynset('unable.a.01'),\n",
       " SentiSynset('abaxial.a.01'),\n",
       " SentiSynset('adaxial.a.01'),\n",
       " SentiSynset('acroscopic.a.01'),\n",
       " SentiSynset('basiscopic.a.01'),\n",
       " SentiSynset('abducent.a.01'),\n",
       " SentiSynset('adducent.a.01'),\n",
       " SentiSynset('nascent.a.01'),\n",
       " SentiSynset('emergent.s.02')]"
      ]
     },
     "execution_count": 37,
     "metadata": {},
     "output_type": "execute_result"
    }
   ],
   "source": [
    "a[:10]"
   ]
  },
  {
   "cell_type": "code",
   "execution_count": 38,
   "metadata": {},
   "outputs": [
    {
     "ename": "AttributeError",
     "evalue": "'SentiSynset' object has no attribute 'definition'",
     "output_type": "error",
     "traceback": [
      "\u001b[0;31m---------------------------------------------------------------------------\u001b[0m",
      "\u001b[0;31mAttributeError\u001b[0m                            Traceback (most recent call last)",
      "\u001b[0;32m<ipython-input-38-10f272c61555>\u001b[0m in \u001b[0;36m<module>\u001b[0;34m()\u001b[0m\n\u001b[0;32m----> 1\u001b[0;31m \u001b[0ma\u001b[0m\u001b[0;34m[\u001b[0m\u001b[0;36m0\u001b[0m\u001b[0;34m]\u001b[0m\u001b[0;34m.\u001b[0m\u001b[0mdefinition\u001b[0m\u001b[0;34m\u001b[0m\u001b[0m\n\u001b[0m",
      "\u001b[0;31mAttributeError\u001b[0m: 'SentiSynset' object has no attribute 'definition'"
     ]
    }
   ],
   "source": [
    "a[0].definition"
   ]
  },
  {
   "cell_type": "code",
   "execution_count": null,
   "metadata": {},
   "outputs": [],
   "source": []
  }
 ],
 "metadata": {
  "kernelspec": {
   "display_name": "Python 3",
   "language": "python",
   "name": "python3"
  },
  "language_info": {
   "codemirror_mode": {
    "name": "ipython",
    "version": 3
   },
   "file_extension": ".py",
   "mimetype": "text/x-python",
   "name": "python",
   "nbconvert_exporter": "python",
   "pygments_lexer": "ipython3",
   "version": "3.6.5"
  }
 },
 "nbformat": 4,
 "nbformat_minor": 2
}
