{
 "cells": [
  {
   "cell_type": "markdown",
   "metadata": {},
   "source": [
    "## imports"
   ]
  },
  {
   "cell_type": "code",
   "execution_count": 1,
   "metadata": {},
   "outputs": [],
   "source": [
    "import nltk\n",
    "from nltk.corpus import wordnet as wn\n",
    "from nltk.corpus import sentiwordnet as swn"
   ]
  },
  {
   "cell_type": "code",
   "execution_count": 2,
   "metadata": {},
   "outputs": [
    {
     "name": "stdout",
     "output_type": "stream",
     "text": [
      "[nltk_data] Downloading package sentiwordnet to\n",
      "[nltk_data]     /home/shivam/nltk_data...\n",
      "[nltk_data]   Package sentiwordnet is already up-to-date!\n",
      "[nltk_data] Downloading package wordnet to /home/shivam/nltk_data...\n",
      "[nltk_data]   Package wordnet is already up-to-date!\n"
     ]
    },
    {
     "data": {
      "text/plain": [
       "True"
      ]
     },
     "execution_count": 2,
     "metadata": {},
     "output_type": "execute_result"
    }
   ],
   "source": [
    "nltk.download(\"sentiwordnet\")\n",
    "nltk.download(\"wordnet\")"
   ]
  },
  {
   "cell_type": "markdown",
   "metadata": {},
   "source": [
    "## Wordnet"
   ]
  },
  {
   "cell_type": "code",
   "execution_count": 3,
   "metadata": {},
   "outputs": [],
   "source": [
    "w = wn.synsets(\"idle\",'a')\n",
    "bs = w[1]"
   ]
  },
  {
   "cell_type": "code",
   "execution_count": 4,
   "metadata": {},
   "outputs": [
    {
     "name": "stdout",
     "output_type": "stream",
     "text": [
      "['baseless gossip', 'the allegations proved groundless', 'idle fears', 'unfounded suspicions', 'unwarranted jealousy']\n"
     ]
    }
   ],
   "source": [
    "print(bs.examples())"
   ]
  },
  {
   "cell_type": "code",
   "execution_count": 5,
   "metadata": {},
   "outputs": [
    {
     "data": {
      "text/plain": [
       "'without a basis in reason or fact'"
      ]
     },
     "execution_count": 5,
     "metadata": {},
     "output_type": "execute_result"
    }
   ],
   "source": [
    "bs.definition()"
   ]
  },
  {
   "cell_type": "code",
   "execution_count": 6,
   "metadata": {},
   "outputs": [
    {
     "data": {
      "text/plain": [
       "[Lemma('baseless.s.01.baseless'),\n",
       " Lemma('baseless.s.01.groundless'),\n",
       " Lemma('baseless.s.01.idle'),\n",
       " Lemma('baseless.s.01.unfounded'),\n",
       " Lemma('baseless.s.01.unwarranted'),\n",
       " Lemma('baseless.s.01.wild')]"
      ]
     },
     "execution_count": 6,
     "metadata": {},
     "output_type": "execute_result"
    }
   ],
   "source": [
    "bs.lemmas()"
   ]
  },
  {
   "cell_type": "markdown",
   "metadata": {},
   "source": [
    "#### antonymns and synonms"
   ]
  },
  {
   "cell_type": "code",
   "execution_count": 7,
   "metadata": {},
   "outputs": [
    {
     "name": "stdout",
     "output_type": "stream",
     "text": [
      "{'practiced', 'right', 'skillful', 'unspoilt', 'goodness', 'secure', 'effective', 'honest', 'full', 'undecomposed', 'trade_good', 'near', 'salutary', 'just', 'soundly', 'safe', 'commodity', 'dependable', 'expert', 'respectable', 'good', 'upright', 'serious', 'adept', 'estimable', 'in_effect', 'dear', 'well', 'beneficial', 'in_force', 'unspoiled', 'thoroughly', 'ripe', 'sound', 'honorable', 'proficient', 'skilful'}\n",
      "{'evil', 'ill', 'evilness', 'badness', 'bad'}\n"
     ]
    }
   ],
   "source": [
    "synonyms = []\n",
    "antonyms = []\n",
    "\n",
    "for syn in wn.synsets(\"good\"):\n",
    "    for l in syn.lemmas():\n",
    "        synonyms.append(l.name())\n",
    "        if l.antonyms():\n",
    "            antonyms.append(l.antonyms()[0].name())\n",
    "\n",
    "print(set(synonyms))\n",
    "print(set(antonyms))"
   ]
  },
  {
   "cell_type": "markdown",
   "metadata": {},
   "source": [
    "## SentiWordNet"
   ]
  },
  {
   "cell_type": "code",
   "execution_count": 8,
   "metadata": {},
   "outputs": [],
   "source": [
    "sad = swn.senti_synset(\"sad.a.01\")"
   ]
  },
  {
   "cell_type": "code",
   "execution_count": 9,
   "metadata": {},
   "outputs": [
    {
     "name": "stdout",
     "output_type": "stream",
     "text": [
      "0.125\n",
      "0.75\n",
      "0.125\n"
     ]
    }
   ],
   "source": [
    "print(sad.pos_score())\n",
    "print(sad.neg_score())\n",
    "print(sad.obj_score())"
   ]
  },
  {
   "cell_type": "code",
   "execution_count": 10,
   "metadata": {},
   "outputs": [
    {
     "name": "stdout",
     "output_type": "stream",
     "text": [
      "<sad.a.01: PosScore=0.125 NegScore=0.75>\n"
     ]
    }
   ],
   "source": [
    "print(sad)"
   ]
  },
  {
   "cell_type": "code",
   "execution_count": 11,
   "metadata": {},
   "outputs": [
    {
     "data": {
      "text/plain": [
       "[SentiSynset('fast.n.01'),\n",
       " SentiSynset('fast.v.01'),\n",
       " SentiSynset('fast.v.02'),\n",
       " SentiSynset('fast.a.01'),\n",
       " SentiSynset('fast.a.02'),\n",
       " SentiSynset('fast.a.03'),\n",
       " SentiSynset('fast.s.04'),\n",
       " SentiSynset('fast.s.05'),\n",
       " SentiSynset('debauched.s.01'),\n",
       " SentiSynset('flying.s.02'),\n",
       " SentiSynset('fast.s.08'),\n",
       " SentiSynset('firm.s.10'),\n",
       " SentiSynset('fast.s.10'),\n",
       " SentiSynset('fast.r.01'),\n",
       " SentiSynset('fast.r.02')]"
      ]
     },
     "execution_count": 11,
     "metadata": {},
     "output_type": "execute_result"
    }
   ],
   "source": [
    "list(swn.senti_synsets(\"fast\"))"
   ]
  },
  {
   "cell_type": "code",
   "execution_count": 12,
   "metadata": {},
   "outputs": [],
   "source": [
    "all = swn.all_senti_synsets()"
   ]
  },
  {
   "cell_type": "code",
   "execution_count": 13,
   "metadata": {},
   "outputs": [
    {
     "data": {
      "text/plain": [
       "<generator object SentiWordNetCorpusReader.all_senti_synsets at 0x7fc491bfcf10>"
      ]
     },
     "execution_count": 13,
     "metadata": {},
     "output_type": "execute_result"
    }
   ],
   "source": [
    "all"
   ]
  },
  {
   "cell_type": "code",
   "execution_count": 14,
   "metadata": {},
   "outputs": [],
   "source": [
    "a = list(all)"
   ]
  },
  {
   "cell_type": "code",
   "execution_count": 15,
   "metadata": {},
   "outputs": [
    {
     "data": {
      "text/plain": [
       "[SentiSynset('able.a.01'),\n",
       " SentiSynset('unable.a.01'),\n",
       " SentiSynset('abaxial.a.01'),\n",
       " SentiSynset('adaxial.a.01'),\n",
       " SentiSynset('acroscopic.a.01'),\n",
       " SentiSynset('basiscopic.a.01'),\n",
       " SentiSynset('abducent.a.01'),\n",
       " SentiSynset('adducent.a.01'),\n",
       " SentiSynset('nascent.a.01'),\n",
       " SentiSynset('emergent.s.02')]"
      ]
     },
     "execution_count": 15,
     "metadata": {},
     "output_type": "execute_result"
    }
   ],
   "source": [
    "a[:10]"
   ]
  }
 ],
 "metadata": {
  "kernelspec": {
   "display_name": "Python 3",
   "language": "python",
   "name": "python3"
  },
  "language_info": {
   "codemirror_mode": {
    "name": "ipython",
    "version": 3
   },
   "file_extension": ".py",
   "mimetype": "text/x-python",
   "name": "python",
   "nbconvert_exporter": "python",
   "pygments_lexer": "ipython3",
   "version": "3.6.5"
  }
 },
 "nbformat": 4,
 "nbformat_minor": 2
}
