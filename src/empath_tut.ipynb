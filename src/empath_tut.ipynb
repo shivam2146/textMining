{
 "cells": [
  {
   "cell_type": "markdown",
   "metadata": {},
   "source": [
    "## Analyzing text with empath"
   ]
  },
  {
   "cell_type": "code",
   "execution_count": 1,
   "metadata": {},
   "outputs": [
    {
     "name": "stdout",
     "output_type": "stream",
     "text": [
      "Requirement already satisfied: empath in /home/shivam/gitRepos/text_mining/lib/python3.6/site-packages (0.89)\n",
      "Requirement already satisfied: requests in /home/shivam/gitRepos/text_mining/lib/python3.6/site-packages (from empath) (2.19.1)\n",
      "Requirement already satisfied: certifi>=2017.4.17 in /home/shivam/gitRepos/text_mining/lib/python3.6/site-packages (from requests->empath) (2018.8.24)\n",
      "Requirement already satisfied: urllib3<1.24,>=1.21.1 in /home/shivam/gitRepos/text_mining/lib/python3.6/site-packages (from requests->empath) (1.23)\n",
      "Requirement already satisfied: chardet<3.1.0,>=3.0.2 in /home/shivam/gitRepos/text_mining/lib/python3.6/site-packages (from requests->empath) (3.0.4)\n",
      "Requirement already satisfied: idna<2.8,>=2.5 in /home/shivam/gitRepos/text_mining/lib/python3.6/site-packages (from requests->empath) (2.7)\n",
      "\u001b[33mYou are using pip version 18.1, however version 19.0.1 is available.\n",
      "You should consider upgrading via the 'pip install --upgrade pip' command.\u001b[0m\n"
     ]
    }
   ],
   "source": [
    "!pip install empath"
   ]
  },
  {
   "cell_type": "code",
   "execution_count": 2,
   "metadata": {},
   "outputs": [],
   "source": [
    "from empath import Empath"
   ]
  },
  {
   "cell_type": "code",
   "execution_count": 3,
   "metadata": {},
   "outputs": [],
   "source": [
    "lexicon = Empath()"
   ]
  },
  {
   "cell_type": "code",
   "execution_count": 4,
   "metadata": {},
   "outputs": [],
   "source": [
    "def top_categories(categories, n=10):\n",
    "    return sorted(categories.items(), key=lambda x: x[1], reverse=True)[:n]"
   ]
  },
  {
   "cell_type": "code",
   "execution_count": 5,
   "metadata": {},
   "outputs": [],
   "source": [
    "dic = lexicon.analyze(\"Beans. I was trying to explain to somebody as we were flying in, that's corn. That's beans. And they were very impressed at my agricultural knowledge. Please give it up for Amaury once again for that outstanding introduction. I have a bunch of good friends here today, including somebody who I served with, who is one of the finest senators in the country, and we're lucky to have him, your Senator, Dick Durbin is here. I also noticed, by the way, former Governor Edgar here, who I haven't seen in a long time, and somehow he has not aged and I have. And it's great to see you, Governor. I want to thank President Killeen and everybody at the U of I System for making it possible for me to be here today. And I am deeply honored at the Paul Douglas Award that is being given to me. He is somebody who set the path for so much outstanding public service here in Illinois.Now, I want to start by addressing the elephant in the room. I know people are still wondering why I didn't speak at the commencement.The student body president sent a very thoughtful invitation. The students made a spiffy video. And when I declined, I hear there was speculation that I was boycotting campus until Antonio's Pizza reopened.So I want to be clear. I did not take sides in that late-night food debate. The truth is, after eight years in the White House, I needed to spend some time one-on-one with Michelle if I wanted to stay married.I'm here today because this is one of those pivotal moments when every one of us, as citizens of the United States, need to determine just who it is that we are, just what it is that we stand for. And as a fellow citizen, not as an ex-president, but as a fellow citizen, I am here to deliver a simple message, and that is that you need to vote because our democracy depends on it.Now, some of you may think I'm exaggerating when I say this November's elections are more important than any I can remember in my lifetime. I know politicians say that all the time. I have been guilty of saying it a few times, particularly when I was on the ballot.But just a glance at recent headlines should tell you that this moment really is different.The stakes really are higher. The consequences of any of us sitting on the sidelines are more dire. And it's not as if we haven't had big elections before or big choices to make in our history. The fact is, democracy has never been easy, and our founding fathers argued about everything. We waged a civil war. We overcame depression. We've lurched from eras of great progressive change to periods of retrenchment. Still, most Americans alive today, certainly the students who are here, have operated under some common assumptions about who we are and what we stand for.Out of the turmoil of the industrial revolution and the Great Depression, America adapted a new economy, a 20th century economy – guiding our free market with regulations to protect health and safety and fair competition, empowering workers with union movements; investing in science and infrastructure and educational institutions like U of I; strengthening our system of primary and secondary education, and stitching together a social safety net. And all of this led to unrivaled prosperity and the rise of a broad and deep middle class in the sense that if you worked hard, you could climb the ladder of success.And not everyone was included in this prosperity. There was a lot more work to do. And so in response to the stain of slavery and segregation and the reality of racial discrimination, the civil rights movement not only opened new doors for African-Americans, it also opened up the floodgates of opportunity for women and Americans with disabilities and LGBT Americans and others to make their own claims to full and equal citizenship. And although discrimination remained a pernicious force in our society and continues to this day, and although there are controversies about how to best ensure genuine equality of opportunity, there's been at least rough agreement among the overwhelming majority of Americans that our country is strongest when everybody's treated fairly, when people are judged on the merits and the content of their character, and not the color of their skin or the way in which they worship God or their last names. And that consensus then extended beyond our borders. And from the wreckage of World War II, we built a postwar web, architecture, system of alliances and institutions to underwrite freedom and oppose Soviet totalitarianism and to help poorer countries develop.This American leadership across the globe wasn't perfect. We made mistakes. At times we lost sight of our ideals. We had fierce arguments about Vietnam, and we had fierce arguments about Iraq. But thanks to our leadership, a bipartisan leadership, and the efforts of diplomats and Peace Corps volunteers, and most of all thanks to the constant sacrifices of our men and women in uniform, we not only reduced the prospects of war between the world's great powers, we not only won the Cold War, we helped spread a commitment to certain values and principles, like the rule of law and human rights and democracy and the notion of the inherent dignity and worth of every individual. And even those countries that didn't abide by those principles were still subject to shame and still had to at least give lip service for the idea. And that provided a lever to continually improve the prospects for people around the world.\")"
   ]
  },
  {
   "cell_type": "code",
   "execution_count": 6,
   "metadata": {},
   "outputs": [
    {
     "name": "stdout",
     "output_type": "stream",
     "text": [
      "help 2.0\n",
      "money 2.0\n",
      "wedding 1.0\n",
      "medical_emergency 1.0\n",
      "aggression 3.0\n",
      "occupation 2.0\n",
      "anticipation 1.0\n",
      "family 1.0\n",
      "vacation 2.0\n",
      "crime 2.0\n",
      "attractive 1.0\n",
      "health 1.0\n",
      "pride 2.0\n",
      "dispute 6.0\n",
      "government 11.0\n",
      "leisure 1.0\n",
      "suffering 2.0\n",
      "royalty 2.0\n",
      "school 8.0\n",
      "banking 1.0\n",
      "social_media 1.0\n",
      "art 1.0\n",
      "computer 2.0\n",
      "college 6.0\n",
      "stealing 1.0\n",
      "divine 2.0\n",
      "fear 3.0\n",
      "business 6.0\n",
      "cooking 1.0\n",
      "religion 2.0\n",
      "reading 1.0\n",
      "worship 1.0\n",
      "leader 4.0\n",
      "independence 5.0\n",
      "movement 2.0\n",
      "body 5.0\n",
      "eating 1.0\n",
      "confusion 1.0\n",
      "death 1.0\n",
      "healing 2.0\n",
      "legend 1.0\n",
      "restaurant 1.0\n",
      "programming 2.0\n",
      "dominant_heirarchical 2.0\n",
      "love 2.0\n",
      "hiking 2.0\n",
      "communication 4.0\n",
      "hearing 3.0\n",
      "order 4.0\n",
      "sympathy 1.0\n",
      "trust 3.0\n",
      "ancient 1.0\n",
      "fabric 1.0\n",
      "air_travel 1.0\n",
      "fight 4.0\n",
      "music 1.0\n",
      "politeness 2.0\n",
      "farming 1.0\n",
      "meeting 2.0\n",
      "war 4.0\n",
      "speaking 6.0\n",
      "listen 2.0\n",
      "urban 1.0\n",
      "shopping 2.0\n",
      "disgust 1.0\n",
      "tool 1.0\n",
      "phone 4.0\n",
      "gain 5.0\n",
      "sound 1.0\n",
      "rage 2.0\n",
      "science 3.0\n",
      "work 1.0\n",
      "appearance 1.0\n",
      "sadness 3.0\n",
      "joy 1.0\n",
      "affection 2.0\n",
      "traveling 1.0\n",
      "shame 2.0\n",
      "torment 1.0\n",
      "economics 5.0\n",
      "anger 2.0\n",
      "politics 6.0\n",
      "ship 1.0\n",
      "clothing 1.0\n",
      "strength 4.0\n",
      "technology 2.0\n",
      "shape_and_size 2.0\n",
      "power 5.0\n",
      "white_collar_job 1.0\n",
      "animal 2.0\n",
      "disappointment 2.0\n",
      "poor 1.0\n",
      "philosophy 3.0\n",
      "negotiate 2.0\n",
      "negative_emotion 3.0\n",
      "messaging 2.0\n",
      "competing 4.0\n",
      "law 8.0\n",
      "friends 2.0\n",
      "payment 1.0\n",
      "achievement 8.0\n",
      "giving 8.0\n",
      "contentment 1.0\n",
      "rural 1.0\n",
      "positive_emotion 6.0\n",
      "colors 1.0\n"
     ]
    }
   ],
   "source": [
    "for key in dic.keys():\n",
    "    if dic[key] != 0.0:\n",
    "        print(key,dic[key])"
   ]
  },
  {
   "cell_type": "markdown",
   "metadata": {},
   "source": [
    "### Getting top categories "
   ]
  },
  {
   "cell_type": "code",
   "execution_count": 7,
   "metadata": {},
   "outputs": [
    {
     "data": {
      "text/plain": [
       "[('government', 11.0),\n",
       " ('school', 8.0),\n",
       " ('law', 8.0),\n",
       " ('achievement', 8.0),\n",
       " ('giving', 8.0),\n",
       " ('dispute', 6.0),\n",
       " ('college', 6.0),\n",
       " ('business', 6.0),\n",
       " ('speaking', 6.0),\n",
       " ('politics', 6.0)]"
      ]
     },
     "execution_count": 7,
     "metadata": {},
     "output_type": "execute_result"
    }
   ],
   "source": [
    "top_categories(dic)"
   ]
  },
  {
   "cell_type": "code",
   "execution_count": 8,
   "metadata": {},
   "outputs": [
    {
     "data": {
      "text/plain": [
       "dict_keys(['help', 'office', 'dance', 'money', 'wedding', 'domestic_work', 'sleep', 'medical_emergency', 'cold', 'hate', 'cheerfulness', 'aggression', 'occupation', 'envy', 'anticipation', 'family', 'vacation', 'crime', 'attractive', 'masculine', 'prison', 'health', 'pride', 'dispute', 'nervousness', 'government', 'weakness', 'horror', 'swearing_terms', 'leisure', 'suffering', 'royalty', 'wealthy', 'tourism', 'furniture', 'school', 'magic', 'beach', 'journalism', 'morning', 'banking', 'social_media', 'exercise', 'night', 'kill', 'blue_collar_job', 'art', 'ridicule', 'play', 'computer', 'college', 'optimism', 'stealing', 'real_estate', 'home', 'divine', 'sexual', 'fear', 'irritability', 'superhero', 'business', 'driving', 'pet', 'childish', 'cooking', 'exasperation', 'religion', 'hipster', 'internet', 'surprise', 'reading', 'worship', 'leader', 'independence', 'movement', 'body', 'noise', 'eating', 'medieval', 'zest', 'confusion', 'water', 'sports', 'death', 'healing', 'legend', 'heroic', 'celebration', 'restaurant', 'violence', 'programming', 'dominant_heirarchical', 'military', 'neglect', 'swimming', 'exotic', 'love', 'hiking', 'communication', 'hearing', 'order', 'sympathy', 'hygiene', 'weather', 'anonymity', 'trust', 'ancient', 'deception', 'fabric', 'air_travel', 'fight', 'dominant_personality', 'music', 'vehicle', 'politeness', 'toy', 'farming', 'meeting', 'war', 'speaking', 'listen', 'urban', 'shopping', 'disgust', 'fire', 'tool', 'phone', 'gain', 'sound', 'injury', 'sailing', 'rage', 'science', 'work', 'appearance', 'valuable', 'warmth', 'youth', 'sadness', 'fun', 'emotional', 'joy', 'affection', 'traveling', 'fashion', 'ugliness', 'lust', 'shame', 'torment', 'economics', 'anger', 'politics', 'ship', 'clothing', 'car', 'strength', 'technology', 'breaking', 'shape_and_size', 'power', 'white_collar_job', 'animal', 'party', 'terrorism', 'smell', 'disappointment', 'poor', 'plant', 'pain', 'beauty', 'timidity', 'philosophy', 'negotiate', 'negative_emotion', 'cleaning', 'messaging', 'competing', 'law', 'friends', 'payment', 'achievement', 'alcohol', 'liquid', 'feminine', 'weapon', 'children', 'monster', 'ocean', 'giving', 'contentment', 'writing', 'rural', 'positive_emotion', 'musical', 'colors'])"
      ]
     },
     "execution_count": 8,
     "metadata": {},
     "output_type": "execute_result"
    }
   ],
   "source": [
    "(dic.keys())"
   ]
  },
  {
   "cell_type": "markdown",
   "metadata": {},
   "source": [
    "### Get normalized scores for categories"
   ]
  },
  {
   "cell_type": "code",
   "execution_count": 9,
   "metadata": {},
   "outputs": [
    {
     "name": "stdout",
     "output_type": "stream",
     "text": [
      "{'money': 0.07142857142857142, 'banking': 0.07142857142857142, 'valuable': 0.07142857142857142, 'love': 0.0, 'friends': 0.0, 'positive_emotion': 0.0}\n"
     ]
    }
   ],
   "source": [
    "#normalize = True normalizes the count over text length\n",
    "text =\"ain't there a place where peace is prevalent and not just money and violence\"\n",
    "print(lexicon.analyze(text,normalize=True,categories=[\"money\",\"banking\",\"valuable\",\"love\",\"friends\",\"positive_emotion\"]))"
   ]
  },
  {
   "cell_type": "markdown",
   "metadata": {},
   "source": [
    "## to create new category"
   ]
  },
  {
   "cell_type": "code",
   "execution_count": 10,
   "metadata": {},
   "outputs": [
    {
     "name": "stdout",
     "output_type": "stream",
     "text": [
      "[\"blue\", \"green\", \"purple\", \"purple\", \"green\", \"yellow\", \"red\", \"grey\", \"violet\", \"gray\", \"blue\", \"orange\", \"white\", \"pink\", \"yellow\", \"black\", \"brown\", \"brown\", \"red\", \"aqua\", \"turquoise\", \"blue_color\", \"colored\", \"color\", \"same_shade\", \"violet\", \"gray\", \"grey\", \"teal\", \"nice_shade\", \"coloured\", \"forest_green\", \"colored\", \"different_shade\", \"colour\", \"sparkly\", \"reddish\", \"beautiful_shade\", \"greenish\", \"indigo\", \"darker_shade\", \"emerald\", \"lovely_shade\", \"tints\", \"crimson\", \"dark_purple\", \"pink\", \"emerald\", \"sapphire\", \"golden\", \"lighter_shade\", \"lime_green\", \"coloured\", \"bright\", \"same_color\", \"specks\", \"red\", \"golden_color\", \"different_shades\", \"chocolate_brown\", \"orange\", \"bluish\", \"green\", \"deep_purple\", \"magenta\", \"green_color\", \"dark_shade\", \"bright_orange\", \"milky\", \"lilac\", \"light_brown\", \"sparkling\", \"golden_brown\", \"silvery\", \"baby_blue\", \"blood_red\", \"pink\", \"teal\", \"blue\", \"yellowish\", \"turquoise\", \"same_colour\", \"sparkly\", \"aquamarine\", \"black_color\", \"white\", \"cerulean\", \"perfect_shade\", \"dark\", \"speckled\", \"charcoal\", \"greyish\", \"midnight_blue\", \"emerald_green\", \"deep_brown\", \"ocean_blue\", \"flecks\", \"amber\", \"pinkish\", \"jet_black\"]\n"
     ]
    }
   ],
   "source": [
    "lexicon.create_category(\"colors\",[\"red\",\"blue\",\"green\"])"
   ]
  },
  {
   "cell_type": "code",
   "execution_count": 11,
   "metadata": {},
   "outputs": [
    {
     "data": {
      "text/plain": [
       "{'colors': 0.4}"
      ]
     },
     "execution_count": 11,
     "metadata": {},
     "output_type": "execute_result"
    }
   ],
   "source": [
    "lexicon.analyze(\"my favorite color is blue\",categories=[\"colors\"],normalize=True)"
   ]
  }
 ],
 "metadata": {
  "kernelspec": {
   "display_name": "Python 3",
   "language": "python",
   "name": "python3"
  },
  "language_info": {
   "codemirror_mode": {
    "name": "ipython",
    "version": 3
   },
   "file_extension": ".py",
   "mimetype": "text/x-python",
   "name": "python",
   "nbconvert_exporter": "python",
   "pygments_lexer": "ipython3",
   "version": "3.6.5"
  }
 },
 "nbformat": 4,
 "nbformat_minor": 2
}
