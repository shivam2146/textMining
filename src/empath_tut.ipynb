{
 "cells": [
  {
   "cell_type": "markdown",
   "metadata": {},
   "source": [
    "## Analyzing text with empath"
   ]
  },
  {
   "cell_type": "code",
   "execution_count": 1,
   "metadata": {},
   "outputs": [],
   "source": [
    "from empath import Empath"
   ]
  },
  {
   "cell_type": "code",
   "execution_count": 2,
   "metadata": {},
   "outputs": [],
   "source": [
    "lexicon = Empath()"
   ]
  },
  {
   "cell_type": "code",
   "execution_count": 3,
   "metadata": {},
   "outputs": [],
   "source": [
    "dic = lexicon.analyze(\"ain't there a place where peace and love is prevalent and not just money and violence\") "
   ]
  },
  {
   "cell_type": "code",
   "execution_count": 5,
   "metadata": {},
   "outputs": [
    {
     "data": {
      "text/plain": [
       "dict_keys(['help', 'office', 'dance', 'money', 'wedding', 'domestic_work', 'sleep', 'medical_emergency', 'cold', 'hate', 'cheerfulness', 'aggression', 'occupation', 'envy', 'anticipation', 'family', 'vacation', 'crime', 'attractive', 'masculine', 'prison', 'health', 'pride', 'dispute', 'nervousness', 'government', 'weakness', 'horror', 'swearing_terms', 'leisure', 'suffering', 'royalty', 'wealthy', 'tourism', 'furniture', 'school', 'magic', 'beach', 'journalism', 'morning', 'banking', 'social_media', 'exercise', 'night', 'kill', 'blue_collar_job', 'art', 'ridicule', 'play', 'computer', 'college', 'optimism', 'stealing', 'real_estate', 'home', 'divine', 'sexual', 'fear', 'irritability', 'superhero', 'business', 'driving', 'pet', 'childish', 'cooking', 'exasperation', 'religion', 'hipster', 'internet', 'surprise', 'reading', 'worship', 'leader', 'independence', 'movement', 'body', 'noise', 'eating', 'medieval', 'zest', 'confusion', 'water', 'sports', 'death', 'healing', 'legend', 'heroic', 'celebration', 'restaurant', 'violence', 'programming', 'dominant_heirarchical', 'military', 'neglect', 'swimming', 'exotic', 'love', 'hiking', 'communication', 'hearing', 'order', 'sympathy', 'hygiene', 'weather', 'anonymity', 'trust', 'ancient', 'deception', 'fabric', 'air_travel', 'fight', 'dominant_personality', 'music', 'vehicle', 'politeness', 'toy', 'farming', 'meeting', 'war', 'speaking', 'listen', 'urban', 'shopping', 'disgust', 'fire', 'tool', 'phone', 'gain', 'sound', 'injury', 'sailing', 'rage', 'science', 'work', 'appearance', 'valuable', 'warmth', 'youth', 'sadness', 'fun', 'emotional', 'joy', 'affection', 'traveling', 'fashion', 'ugliness', 'lust', 'shame', 'torment', 'economics', 'anger', 'politics', 'ship', 'clothing', 'car', 'strength', 'technology', 'breaking', 'shape_and_size', 'power', 'white_collar_job', 'animal', 'party', 'terrorism', 'smell', 'disappointment', 'poor', 'plant', 'pain', 'beauty', 'timidity', 'philosophy', 'negotiate', 'negative_emotion', 'cleaning', 'messaging', 'competing', 'law', 'friends', 'payment', 'achievement', 'alcohol', 'liquid', 'feminine', 'weapon', 'children', 'monster', 'ocean', 'giving', 'contentment', 'writing', 'rural', 'positive_emotion', 'musical', 'colors'])"
      ]
     },
     "execution_count": 5,
     "metadata": {},
     "output_type": "execute_result"
    }
   ],
   "source": [
    "(dic.keys())"
   ]
  },
  {
   "cell_type": "code",
   "execution_count": 5,
   "metadata": {},
   "outputs": [
    {
     "name": "stdout",
     "output_type": "stream",
     "text": [
      "money 1.0\n",
      "aggression 1.0\n",
      "crime 1.0\n",
      "banking 1.0\n",
      "optimism 1.0\n",
      "stealing 1.0\n",
      "sexual 1.0\n",
      "violence 1.0\n",
      "love 1.0\n",
      "valuable 1.0\n",
      "affection 1.0\n",
      "economics 1.0\n",
      "friends 1.0\n",
      "positive_emotion 1.0\n"
     ]
    }
   ],
   "source": [
    "for key in dic.keys():\n",
    "    if dic[key] != 0.0:\n",
    "        print(key,dic[key])"
   ]
  },
  {
   "cell_type": "markdown",
   "metadata": {},
   "source": [
    "### Get normalized scores for categories"
   ]
  },
  {
   "cell_type": "code",
   "execution_count": 6,
   "metadata": {},
   "outputs": [
    {
     "name": "stdout",
     "output_type": "stream",
     "text": [
      "{'money': 0.07142857142857142, 'banking': 0.07142857142857142, 'valuable': 0.07142857142857142, 'love': 0.0, 'friends': 0.0, 'positive_emotion': 0.0, 'crime': 0.0, 'aggression': 0.0}\n"
     ]
    }
   ],
   "source": [
    "#normalize = True normalizes the count over text length\n",
    "text =\"ain't there a place where peace is prevalent and not just money and fights\"\n",
    "print(lexicon.analyze(text,normalize=True,categories=[\"money\",\"banking\",\"valuable\",\"love\",\"friends\",\"positive_emotion\"]))"
   ]
  },
  {
   "cell_type": "markdown",
   "metadata": {},
   "source": [
    "## to create new category"
   ]
  },
  {
   "cell_type": "code",
   "execution_count": 6,
   "metadata": {},
   "outputs": [
    {
     "name": "stdout",
     "output_type": "stream",
     "text": [
      "[\"blue\", \"green\", \"purple\", \"purple\", \"green\", \"yellow\", \"red\", \"grey\", \"violet\", \"gray\", \"blue\", \"orange\", \"white\", \"pink\", \"yellow\", \"black\", \"brown\", \"brown\", \"red\", \"aqua\", \"turquoise\", \"blue_color\", \"colored\", \"color\", \"same_shade\", \"violet\", \"gray\", \"grey\", \"teal\", \"nice_shade\", \"coloured\", \"forest_green\", \"colored\", \"different_shade\", \"colour\", \"sparkly\", \"reddish\", \"beautiful_shade\", \"greenish\", \"indigo\", \"darker_shade\", \"emerald\", \"lovely_shade\", \"tints\", \"crimson\", \"dark_purple\", \"pink\", \"emerald\", \"sapphire\", \"golden\", \"lighter_shade\", \"lime_green\", \"coloured\", \"bright\", \"same_color\", \"specks\", \"red\", \"golden_color\", \"different_shades\", \"chocolate_brown\", \"orange\", \"bluish\", \"green\", \"deep_purple\", \"magenta\", \"green_color\", \"dark_shade\", \"bright_orange\", \"milky\", \"lilac\", \"light_brown\", \"sparkling\", \"golden_brown\", \"silvery\", \"baby_blue\", \"blood_red\", \"pink\", \"teal\", \"blue\", \"yellowish\", \"turquoise\", \"same_colour\", \"sparkly\", \"aquamarine\", \"black_color\", \"white\", \"cerulean\", \"perfect_shade\", \"dark\", \"speckled\", \"charcoal\", \"greyish\", \"midnight_blue\", \"emerald_green\", \"deep_brown\", \"ocean_blue\", \"flecks\", \"amber\", \"pinkish\", \"jet_black\"]\n"
     ]
    }
   ],
   "source": [
    "lexicon.create_category(\"colors\",[\"red\",\"blue\",\"green\"])"
   ]
  },
  {
   "cell_type": "code",
   "execution_count": 7,
   "metadata": {},
   "outputs": [
    {
     "data": {
      "text/plain": [
       "{'colors': 0.4}"
      ]
     },
     "execution_count": 7,
     "metadata": {},
     "output_type": "execute_result"
    }
   ],
   "source": [
    "lexicon.analyze(\"my favorite color is blue\",categories=[\"colors\"],normalize=True)"
   ]
  }
 ],
 "metadata": {
  "kernelspec": {
   "display_name": "Python 3",
   "language": "python",
   "name": "python3"
  },
  "language_info": {
   "codemirror_mode": {
    "name": "ipython",
    "version": 3
   },
   "file_extension": ".py",
   "mimetype": "text/x-python",
   "name": "python",
   "nbconvert_exporter": "python",
   "pygments_lexer": "ipython3",
   "version": "3.6.5"
  }
 },
 "nbformat": 4,
 "nbformat_minor": 2
}
