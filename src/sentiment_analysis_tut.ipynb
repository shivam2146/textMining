{
 "cells": [
  {
   "cell_type": "markdown",
   "metadata": {},
   "source": [
    "## imports"
   ]
  },
  {
   "cell_type": "code",
   "execution_count": 179,
   "metadata": {},
   "outputs": [],
   "source": [
    "import urllib\n",
    "import string\n",
    "from nltk.tokenize import word_tokenize\n",
    "import csv"
   ]
  },
  {
   "cell_type": "markdown",
   "metadata": {},
   "source": [
    "### loading positive words, negative words files and tweets of obama on which positive and negative score is to be obatined"
   ]
  },
  {
   "cell_type": "code",
   "execution_count": 180,
   "metadata": {},
   "outputs": [],
   "source": [
    " path='http://www.unc.edu/~ncaren/haphazard/'"
   ]
  },
  {
   "cell_type": "code",
   "execution_count": 181,
   "metadata": {},
   "outputs": [],
   "source": [
    "files=['negative.txt','positive.txt','obama_tweets.txt']"
   ]
  },
  {
   "cell_type": "code",
   "execution_count": 182,
   "metadata": {},
   "outputs": [],
   "source": [
    "for file in files:\n",
    "    urllib.request.urlretrieve(path+file,file)"
   ]
  },
  {
   "cell_type": "code",
   "execution_count": 183,
   "metadata": {},
   "outputs": [],
   "source": [
    "tweet_list = open(files[2]).read().split(\"\\n\")"
   ]
  },
  {
   "cell_type": "code",
   "execution_count": 184,
   "metadata": {},
   "outputs": [
    {
     "data": {
      "text/plain": [
       "['Obama has called the GOP budget social Darwinism. Nice try, but they believe in social creationism.',\n",
       " 'In his teen years, Obama has been known to use marijuana and cocaine.',\n",
       " 'IPA Congratulates President Barack Obama for Leadership Regarding JOBS Act: WASHINGTON, Apr 05, 2012 (BUSINESS W... http://t.co/8le3DC8E']"
      ]
     },
     "execution_count": 184,
     "metadata": {},
     "output_type": "execute_result"
    }
   ],
   "source": [
    "tweet_list[:3]"
   ]
  },
  {
   "cell_type": "code",
   "execution_count": 185,
   "metadata": {},
   "outputs": [
    {
     "data": {
      "text/plain": [
       "1381"
      ]
     },
     "execution_count": 185,
     "metadata": {},
     "output_type": "execute_result"
    }
   ],
   "source": [
    "len(tweet_list)"
   ]
  },
  {
   "cell_type": "code",
   "execution_count": 186,
   "metadata": {},
   "outputs": [],
   "source": [
    "pos_words = open(files[1]).read().split(\"\\n\")\n",
    "neg_words = open(files[0]).read().split(\"\\n\")"
   ]
  },
  {
   "cell_type": "code",
   "execution_count": 187,
   "metadata": {},
   "outputs": [
    {
     "data": {
      "text/plain": [
       "['abidance', 'abidance', 'abilities', 'ability', 'able']"
      ]
     },
     "execution_count": 187,
     "metadata": {},
     "output_type": "execute_result"
    }
   ],
   "source": [
    "pos_words[:5]"
   ]
  },
  {
   "cell_type": "markdown",
   "metadata": {},
   "source": [
    "### removing numbers and punctuations from tweets"
   ]
  },
  {
   "cell_type": "code",
   "execution_count": 188,
   "metadata": {},
   "outputs": [],
   "source": [
    "translator = str.maketrans('','',string.punctuation + string.digits)"
   ]
  },
  {
   "cell_type": "code",
   "execution_count": 189,
   "metadata": {},
   "outputs": [],
   "source": [
    "tweet_list_pp = [tweet.lower().translate(translator) for tweet in tweet_list] "
   ]
  },
  {
   "cell_type": "code",
   "execution_count": 190,
   "metadata": {},
   "outputs": [
    {
     "data": {
      "text/plain": [
       "['obama has called the gop budget social darwinism nice try but they believe in social creationism',\n",
       " 'in his teen years obama has been known to use marijuana and cocaine']"
      ]
     },
     "execution_count": 190,
     "metadata": {},
     "output_type": "execute_result"
    }
   ],
   "source": [
    "tweet_list_pp[0:2]"
   ]
  },
  {
   "cell_type": "markdown",
   "metadata": {},
   "source": [
    "### writing positive and negative score for tweets in a new csv for output "
   ]
  },
  {
   "cell_type": "code",
   "execution_count": 191,
   "metadata": {},
   "outputs": [],
   "source": [
    "writer = csv.writer(open(\"tweet_sentiment.csv\",'w'))"
   ]
  },
  {
   "cell_type": "code",
   "execution_count": 192,
   "metadata": {},
   "outputs": [],
   "source": [
    "pos_count_list = []\n",
    "neg_count_list = []\n",
    "for tweet in tweet_list_pp[:50]:\n",
    "    pos_counter = 0\n",
    "    neg_counter = 0\n",
    "    words = word_tokenize(tweet)\n",
    "    for word in words:\n",
    "        if word in pos_words:\n",
    "            pos_counter += 1\n",
    "        elif word in neg_words:\n",
    "            neg_counter += 1\n",
    "    pos_count_list.append(pos_counter/len(words))\n",
    "    neg_count_list.append(neg_counter/len(words))"
   ]
  },
  {
   "cell_type": "code",
   "execution_count": 193,
   "metadata": {},
   "outputs": [
    {
     "name": "stdout",
     "output_type": "stream",
     "text": [
      "[0.0625, 0.0, 0.0, 0.0, 0.0625, 0.058823529411764705, 0.0]\n",
      "[0.0, 0.0, 0.0, 0.0, 0.0, 0.058823529411764705, 0.045454545454545456]\n"
     ]
    }
   ],
   "source": [
    "print(pos_count_list[:7])\n",
    "print(neg_count_list[:7])"
   ]
  },
  {
   "cell_type": "code",
   "execution_count": 213,
   "metadata": {},
   "outputs": [],
   "source": [
    "output = zip(tweet_list_pp,pos_count_list,neg_count_list)"
   ]
  },
  {
   "cell_type": "code",
   "execution_count": 214,
   "metadata": {},
   "outputs": [
    {
     "name": "stdout",
     "output_type": "stream",
     "text": [
      "[('obama has called the gop budget social darwinism nice try but they believe in social creationism', 0.0625, 0.0), ('in his teen years obama has been known to use marijuana and cocaine', 0.0, 0.0)]\n"
     ]
    }
   ],
   "source": [
    "print(list(output)[:2])"
   ]
  },
  {
   "cell_type": "code",
   "execution_count": 195,
   "metadata": {},
   "outputs": [],
   "source": [
    "writer.writerows(output)"
   ]
  }
 ],
 "metadata": {
  "kernelspec": {
   "display_name": "Python 3",
   "language": "python",
   "name": "python3"
  },
  "language_info": {
   "codemirror_mode": {
    "name": "ipython",
    "version": 3
   },
   "file_extension": ".py",
   "mimetype": "text/x-python",
   "name": "python",
   "nbconvert_exporter": "python",
   "pygments_lexer": "ipython3",
   "version": "3.6.5"
  }
 },
 "nbformat": 4,
 "nbformat_minor": 2
}
