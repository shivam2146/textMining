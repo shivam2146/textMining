{
 "cells": [
  {
   "cell_type": "code",
   "execution_count": 10,
   "metadata": {},
   "outputs": [],
   "source": [
    "import nltk"
   ]
  },
  {
   "cell_type": "code",
   "execution_count": 11,
   "metadata": {},
   "outputs": [
    {
     "name": "stdout",
     "output_type": "stream",
     "text": [
      "showing info https://raw.githubusercontent.com/nltk/nltk_data/gh-pages/index.xml\n"
     ]
    },
    {
     "data": {
      "text/plain": [
       "True"
      ]
     },
     "execution_count": 11,
     "metadata": {},
     "output_type": "execute_result"
    }
   ],
   "source": [
    "nltk.download()"
   ]
  },
  {
   "cell_type": "markdown",
   "metadata": {},
   "source": [
    "# Tokenization example"
   ]
  },
  {
   "cell_type": "code",
   "execution_count": 12,
   "metadata": {},
   "outputs": [],
   "source": [
    "from nltk.tokenize import word_tokenize , sent_tokenize"
   ]
  },
  {
   "cell_type": "code",
   "execution_count": 13,
   "metadata": {},
   "outputs": [],
   "source": [
    "example = \"Hey! how is it going? I hope yo are doing great.\""
   ]
  },
  {
   "cell_type": "code",
   "execution_count": 14,
   "metadata": {},
   "outputs": [],
   "source": [
    "words = word_tokenize(example)"
   ]
  },
  {
   "cell_type": "code",
   "execution_count": 24,
   "metadata": {},
   "outputs": [
    {
     "name": "stdout",
     "output_type": "stream",
     "text": [
      "['Hey', '!', 'how', 'is', 'it', 'going', '?', 'I', 'hope', 'yo', 'are', 'doing', 'great', '.']\n"
     ]
    }
   ],
   "source": [
    "print(words)"
   ]
  },
  {
   "cell_type": "code",
   "execution_count": 16,
   "metadata": {},
   "outputs": [],
   "source": [
    "sentences = sent_tokenize(example)"
   ]
  },
  {
   "cell_type": "code",
   "execution_count": 25,
   "metadata": {},
   "outputs": [
    {
     "name": "stdout",
     "output_type": "stream",
     "text": [
      "['Hey!', 'how is it going?', 'I hope yo are doing great.']\n"
     ]
    }
   ],
   "source": [
    "print(sentences)"
   ]
  },
  {
   "cell_type": "markdown",
   "metadata": {},
   "source": [
    "## remove stop words from word list"
   ]
  },
  {
   "cell_type": "code",
   "execution_count": 18,
   "metadata": {},
   "outputs": [],
   "source": [
    "from nltk.corpus import stopwords"
   ]
  },
  {
   "cell_type": "code",
   "execution_count": 19,
   "metadata": {},
   "outputs": [
    {
     "name": "stdout",
     "output_type": "stream",
     "text": [
      "{\"shan't\", \"should've\", 'her', 'a', 'there', 'because', 'your', 'the', \"mightn't\", 're', 'not', 'why', 'up', 'haven', \"shouldn't\", 'and', 'for', 'yourselves', 'm', 'my', 'their', \"don't\", 'am', 'below', 'how', 'down', 'all', 'that', 'who', 'with', 'our', 'after', \"mustn't\", 'she', 'in', \"weren't\", 'off', 'mustn', 'what', 'weren', 'from', 'isn', 'o', 'having', 'so', 'here', 'they', 'aren', 'herself', 'until', 'into', \"couldn't\", 'needn', 'didn', 'ain', 'won', 'more', 'such', 'just', 've', 'very', 'any', \"isn't\", 'nor', 'shouldn', 'themselves', 'when', 'this', 'itself', 'or', 'don', \"hadn't\", 'them', 'are', 'over', 'now', 'ourselves', 'he', 't', \"won't\", \"you've\", 'hers', 'before', 'we', 'hadn', 'hasn', 'same', 'further', 'its', 'under', 'between', 'll', \"that'll\", 'by', \"needn't\", 'yours', 'doesn', \"doesn't\", \"you'll\", 'his', \"she's\", 'then', 'while', 'at', 'wouldn', 'me', 'once', 'than', 'to', 'both', 'most', 'mightn', \"didn't\", 'other', 'should', 'theirs', 'y', 'as', 'does', 'whom', 'doing', 'were', 'i', 'if', 'ma', 'no', 'but', 'himself', \"wouldn't\", 'few', 'you', \"you'd\", 'where', \"wasn't\", 'myself', 'those', 'too', 'd', 'him', 'again', 'ours', 'do', 'about', 'during', 'be', 'had', 'through', 'each', \"aren't\", 'against', 'wasn', 'on', 'will', 'can', 'of', 'couldn', 'which', 'have', 'was', 'an', 'is', 'has', 'did', 'been', \"hasn't\", \"haven't\", \"it's\", 'out', 's', 'some', 'only', 'above', 'yourself', \"you're\", 'own', 'being', 'it', 'these', 'shan'}\n"
     ]
    }
   ],
   "source": [
    "print(set(stopwords.words(\"english\")))"
   ]
  },
  {
   "cell_type": "code",
   "execution_count": 20,
   "metadata": {},
   "outputs": [],
   "source": [
    "stop_words = set(stopwords.words(\"english\"))"
   ]
  },
  {
   "cell_type": "code",
   "execution_count": 22,
   "metadata": {},
   "outputs": [],
   "source": [
    "filtered_sentence = [w for w in words if w not in stop_words]"
   ]
  },
  {
   "cell_type": "code",
   "execution_count": 26,
   "metadata": {},
   "outputs": [
    {
     "name": "stdout",
     "output_type": "stream",
     "text": [
      "['Hey', '!', 'going', '?', 'I', 'hope', 'yo', 'great', '.']\n"
     ]
    }
   ],
   "source": [
    "print(filtered_sentence)"
   ]
  },
  {
   "cell_type": "markdown",
   "metadata": {},
   "source": [
    "# Stemming example"
   ]
  },
  {
   "cell_type": "code",
   "execution_count": 34,
   "metadata": {},
   "outputs": [],
   "source": [
    "from nltk.stem import PorterStemmer"
   ]
  },
  {
   "cell_type": "code",
   "execution_count": 35,
   "metadata": {},
   "outputs": [],
   "source": [
    "ps = PorterStemmer()"
   ]
  },
  {
   "cell_type": "code",
   "execution_count": 37,
   "metadata": {},
   "outputs": [],
   "source": [
    "word_list = ['ride','rides','rider','riding']"
   ]
  },
  {
   "cell_type": "code",
   "execution_count": 38,
   "metadata": {},
   "outputs": [
    {
     "name": "stdout",
     "output_type": "stream",
     "text": [
      "ride\n",
      "ride\n",
      "rider\n",
      "ride\n"
     ]
    }
   ],
   "source": [
    "for w in word_list:\n",
    "    print(ps.stem(w))"
   ]
  },
  {
   "cell_type": "code",
   "execution_count": null,
   "metadata": {},
   "outputs": [],
   "source": []
  }
 ],
 "metadata": {
  "kernelspec": {
   "display_name": "Python 3",
   "language": "python",
   "name": "python3"
  },
  "language_info": {
   "codemirror_mode": {
    "name": "ipython",
    "version": 3
   },
   "file_extension": ".py",
   "mimetype": "text/x-python",
   "name": "python",
   "nbconvert_exporter": "python",
   "pygments_lexer": "ipython3",
   "version": "3.6.5"
  }
 },
 "nbformat": 4,
 "nbformat_minor": 2
}
