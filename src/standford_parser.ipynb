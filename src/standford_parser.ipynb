{
 "cells": [
  {
   "cell_type": "code",
   "execution_count": 1,
   "metadata": {
    "colab": {
     "base_uri": "https://localhost:8080/",
     "height": 67
    },
    "colab_type": "code",
    "executionInfo": {
     "elapsed": 28790,
     "status": "ok",
     "timestamp": 1542863961203,
     "user": {
      "displayName": "Bhoomika Panwar",
      "photoUrl": "",
      "userId": "03634057669267038207"
     },
     "user_tz": -330
    },
    "id": "lU9crx_Ho-sM",
    "outputId": "aba6af48-3ca9-4814-941d-6d351d849b4b"
   },
   "outputs": [
    {
     "name": "stdout",
     "output_type": "stream",
     "text": [
      "openjdk version \"1.8.0_181\"\n",
      "OpenJDK Runtime Environment (build 1.8.0_181-8u181-b13-1ubuntu0.18.04.1-b13)\n",
      "OpenJDK 64-Bit Server VM (build 25.181-b13, mixed mode)\n"
     ]
    }
   ],
   "source": [
    "import os       #importing os to set environment variable\n",
    "def install_java():\n",
    "  !apt-get install -y openjdk-8-jdk-headless -qq > /dev/null      #install openjdk\n",
    "  os.environ[\"JAVA_HOME\"] = \"/usr/lib/jvm/java-8-openjdk-amd64\"     #set environment variable\n",
    "  !java -version       #check java version\n",
    "install_java()"
   ]
  },
  {
   "cell_type": "code",
   "execution_count": null,
   "metadata": {
    "colab": {},
    "colab_type": "code",
    "id": "JVikVOWapdRM"
   },
   "outputs": [],
   "source": [
    "from google.colab import drive"
   ]
  },
  {
   "cell_type": "code",
   "execution_count": 3,
   "metadata": {
    "colab": {
     "base_uri": "https://localhost:8080/",
     "height": 122
    },
    "colab_type": "code",
    "executionInfo": {
     "elapsed": 68980,
     "status": "ok",
     "timestamp": 1542864114754,
     "user": {
      "displayName": "Bhoomika Panwar",
      "photoUrl": "",
      "userId": "03634057669267038207"
     },
     "user_tz": -330
    },
    "id": "FvXWANbG9dJC",
    "outputId": "d8ae21f8-5d12-4566-b293-d44c22fd3b62"
   },
   "outputs": [
    {
     "name": "stdout",
     "output_type": "stream",
     "text": [
      "Go to this URL in a browser: https://accounts.google.com/o/oauth2/auth?client_id=947318989803-6bn6qk8qdgf4n4g3pfee6491hc0brc4i.apps.googleusercontent.com&redirect_uri=urn%3Aietf%3Awg%3Aoauth%3A2.0%3Aoob&scope=email%20https%3A%2F%2Fwww.googleapis.com%2Fauth%2Fdocs.test%20https%3A%2F%2Fwww.googleapis.com%2Fauth%2Fdrive%20https%3A%2F%2Fwww.googleapis.com%2Fauth%2Fdrive.photos.readonly%20https%3A%2F%2Fwww.googleapis.com%2Fauth%2Fpeopleapi.readonly&response_type=code\n",
      "\n",
      "Enter your authorization code:\n",
      "··········\n",
      "Mounted at /content/drive\n"
     ]
    }
   ],
   "source": [
    "drive.mount('/content/drive')"
   ]
  },
  {
   "cell_type": "code",
   "execution_count": null,
   "metadata": {
    "colab": {},
    "colab_type": "code",
    "id": "FT4ctMIo9fXk"
   },
   "outputs": [],
   "source": [
    "import os\n",
    "base_dir = os.path.join(os.path.join(os.path.join(os.getcwd(),'drive'),'My Drive/Colab Notebooks/'),'stanford-corenlp-full-2018-10-05.zip')"
   ]
  },
  {
   "cell_type": "code",
   "execution_count": null,
   "metadata": {
    "colab": {},
    "colab_type": "code",
    "id": "23MJ5sC8DQPX"
   },
   "outputs": [],
   "source": [
    "from nltk.parse import stanford"
   ]
  },
  {
   "cell_type": "code",
   "execution_count": null,
   "metadata": {
    "colab": {},
    "colab_type": "code",
    "id": "BLsA6XEx9-MI"
   },
   "outputs": [],
   "source": [
    "#model = '/home/bhoomika/stanford/stanford-postagger-full-2018-10-16/models/english-left3words-distsim.tagger'\n",
    "\n",
    "parser_jar = os.path.join(os.path.join(os.path.join(os.getcwd(),'drive'),'My Drive/'),'Colab Notebooks/stanford-parser-full-2018-10-17/stanford-parser.jar')\n",
    "parser_model = os.path.join(os.path.join(os.path.join(os.getcwd(),'drive'),'My Drive/'),'Colab Notebooks/stanford-parser-full-2018-10-17/stanford-parser-3.9.2-models.jar')"
   ]
  },
  {
   "cell_type": "code",
   "execution_count": null,
   "metadata": {
    "colab": {},
    "colab_type": "code",
    "id": "DAlwTADjC2jQ"
   },
   "outputs": [],
   "source": [
    "parser = stanford.StanfordParser(parser_model, parser_jar, encoding='utf8')"
   ]
  },
  {
   "cell_type": "code",
   "execution_count": null,
   "metadata": {
    "colab": {},
    "colab_type": "code",
    "id": "rEJUV-ijDGkT"
   },
   "outputs": [],
   "source": [
    "from nltk.tokenize import sent_tokenize,word_tokenize\n",
    "from nltk.corpus import stopwords\n",
    "from nltk.stem import PorterStemmer\n",
    "import nltk\n"
   ]
  },
  {
   "cell_type": "code",
   "execution_count": null,
   "metadata": {
    "colab": {},
    "colab_type": "code",
    "id": "y00IOqa6DLue"
   },
   "outputs": [],
   "source": [
    "sentences = parser.raw_parse_sents(sent_tokenize(\"Excellent hotel in the heart of Chicago. The room we stayed in had a great view of Lake Michigan. We went in July for a vacation and everything is easily accesible from the hotel. Most major attractions are in around the Loop area. We also got a great deal on the price. I would recommend this hotel to anyone visiting Chicago - its in the right spot for both business and pleasure.\"))"
   ]
  },
  {
   "cell_type": "code",
   "execution_count": 15,
   "metadata": {
    "colab": {
     "base_uri": "https://localhost:8080/",
     "height": 68
    },
    "colab_type": "code",
    "executionInfo": {
     "elapsed": 1698,
     "status": "ok",
     "timestamp": 1542864695819,
     "user": {
      "displayName": "Bhoomika Panwar",
      "photoUrl": "",
      "userId": "03634057669267038207"
     },
     "user_tz": -330
    },
    "id": "laXN20o5Dk6V",
    "outputId": "3350a3eb-c675-4bfa-d5a8-6abf1bc42254"
   },
   "outputs": [
    {
     "name": "stdout",
     "output_type": "stream",
     "text": [
      "[nltk_data] Downloading package punkt to /root/nltk_data...\n",
      "[nltk_data]   Unzipping tokenizers/punkt.zip.\n"
     ]
    },
    {
     "data": {
      "text/plain": [
       "['Hello my name is shivam.', 'This is standford tut here.', 'Lets begin']"
      ]
     },
     "execution_count": 15,
     "metadata": {
      "tags": []
     },
     "output_type": "execute_result"
    }
   ],
   "source": [
    "nltk.download('punkt')\n",
    "sent_tokenize(\"Hello my name is shivam. This is standford tut here. Lets begin\")"
   ]
  },
  {
   "cell_type": "code",
   "execution_count": null,
   "metadata": {
    "colab": {},
    "colab_type": "code",
    "id": "_yjvXfkyEB8a"
   },
   "outputs": [],
   "source": [
    "ROOT=\"ROOT\"\n",
    "def getNodes(parent):\n",
    "    for node in parent:\n",
    "        if type(node) is nltk.Tree:\n",
    "            #if node.label() == ROOT:\n",
    "            #    print(\"======== Sentence =========\")\n",
    "            #    print(\"Sentence:\", \" \".join(node.leaves()))\n",
    "            #else:\n",
    "            print(\"Label:\", node.label())\n",
    "            #    print(\"Leaves:\", node.leaves())\n",
    "\n",
    "            getNodes(node)\n",
    "        #else:\n",
    "        #    print(\"Word:\", node)"
   ]
  },
  {
   "cell_type": "code",
   "execution_count": 18,
   "metadata": {
    "colab": {
     "base_uri": "https://localhost:8080/",
     "height": 1928
    },
    "colab_type": "code",
    "executionInfo": {
     "elapsed": 996,
     "status": "ok",
     "timestamp": 1542864820625,
     "user": {
      "displayName": "Bhoomika Panwar",
      "photoUrl": "",
      "userId": "03634057669267038207"
     },
     "user_tz": -330
    },
    "id": "PzmlB-9b6CB5",
    "outputId": "51a096d1-f07e-4caa-ada4-2e3bc9e38547"
   },
   "outputs": [
    {
     "name": "stdout",
     "output_type": "stream",
     "text": [
      "                        ROOT                              \n",
      "                         |                                 \n",
      "                         NP                               \n",
      "            _____________|______________________________   \n",
      "           |             PP                 PP          | \n",
      "           |          ___|____           ___|_____      |  \n",
      "           NP        |        NP        |         NP    | \n",
      "     ______|____     |    ____|____     |         |     |  \n",
      "    JJ          NN   IN  DT        NN   IN       NNP    . \n",
      "    |           |    |   |         |    |         |     |  \n",
      "Excellent     hotel  in the      heart  of     Chicago  . \n",
      "\n",
      "                                    ROOT                                     \n",
      "                                     |                                        \n",
      "                                     S                                       \n",
      "               ______________________|_____________________________________   \n",
      "              NP                     |                                     | \n",
      "      ________|____                  |                                     |  \n",
      "     |            SBAR               VP                                    | \n",
      "     |             |              ___|__________                           |  \n",
      "     |             S             |              NP                         | \n",
      "     |         ____|_____        |          ____|________                  |  \n",
      "     |        |          VP      |         |             PP                | \n",
      "     |        |     _____|___    |         |          ___|____             |  \n",
      "     NP       NP   |        PRT  |         NP        |        NP           | \n",
      "  ___|___     |    |         |   |    _____|____     |    ____|_____       |  \n",
      " DT      NN  PRP  VBD        RP VBD  DT    JJ   NN   IN NNP        NNP     . \n",
      " |       |    |    |         |   |   |     |    |    |   |          |      |  \n",
      "The     room  we stayed      in had  a   great view  of Lake     Michigan  . \n",
      "\n",
      "                                       ROOT                                                       \n",
      "                                        |                                                          \n",
      "                                        S                                                         \n",
      "  ______________________________________|_______________________________________________________   \n",
      " |                VP                                                                            | \n",
      " |    ____________|______________                                                               |  \n",
      " |   |        |                 SBAR                                                            | \n",
      " |   |        |         _________|______________________                                        |  \n",
      " |   |        |        |                                S                                       | \n",
      " |   |        |        |          ______________________|_____________                          |  \n",
      " |   |        |        |         |                                    VP                        | \n",
      " |   |        |        |         |                       _____________|______                   |  \n",
      " |   |        |        |         |                      |                   ADJP                | \n",
      " |   |        |        |         |                      |     _______________|____              |  \n",
      " |   |        PP       |         |                      |    |        |           PP            | \n",
      " |   |     ___|___     |         |                      |    |        |       ____|___          |  \n",
      " NP  |    |       NP   |         NP                     |    |        |      |        NP        | \n",
      " |   |    |       |    |    _____|______________        |    |        |      |     ___|____     |  \n",
      "PRP VBD   IN     NNP   IN  DT    NN     CC      NN     VBZ   RB       JJ     IN   DT       NN   . \n",
      " |   |    |       |    |   |     |      |       |       |    |        |      |    |        |    |  \n",
      " We went  in     July for  a  vacation and  everything  is easily accesible from the     hotel  . \n",
      "\n",
      "                           ROOT                             \n",
      "                            |                                \n",
      "                            S                               \n",
      "        ____________________|_____________________________   \n",
      "       |                          VP                      | \n",
      "       |                 _________|_____                  |  \n",
      "       |                |               PP                | \n",
      "       |                |    ___________|___              |  \n",
      "       |                |   |               PP            | \n",
      "       |                |   |      _________|___          |  \n",
      "       NP               |   |     |             NP        | \n",
      "  _____|________        |   |     |      _______|____     |  \n",
      "JJS    JJ      NNS     VBP  IN    IN    DT     NNP   NN   . \n",
      " |     |        |       |   |     |     |       |    |    |  \n",
      "Most major attractions are  in  around the     Loop area  . \n",
      "\n",
      "                  ROOT                           \n",
      "                   |                              \n",
      "                   S                             \n",
      "  _________________|___________________________   \n",
      " |   |                  VP                     | \n",
      " |   |     _____________|________              |  \n",
      " |   |    |        |             PP            | \n",
      " |   |    |        |          ___|___          |  \n",
      " NP ADVP  |        NP        |       NP        | \n",
      " |   |    |    ____|____     |    ___|____     |  \n",
      "PRP  RB  VBD  DT   JJ   NN   IN  DT       NN   . \n",
      " |   |    |   |    |    |    |   |        |    |  \n",
      " We also got  a  great deal  on the     price  . \n",
      "\n",
      "                                                                   ROOT                                                      \n",
      "                                                                    |                                                         \n",
      "                                                                    S                                                        \n",
      "  __________________________________________________________________|______________________________________________________   \n",
      " |            VP                                                                                                           | \n",
      " |     _______|______                                                                                                      |  \n",
      " |    |              VP                                                                                                    | \n",
      " |    |        ______|___________________                                                                                  |  \n",
      " |    |       |           |              PP                                                                                | \n",
      " |    |       |           |          ____|_______                                                                          |  \n",
      " |    |       |           |         |            NP                                                                        | \n",
      " |    |       |           |         |     _______|________                                                                 |  \n",
      " |    |       |           |         |    |                VP                                                               | \n",
      " |    |       |           |         |    |        ________|_____                                                           |  \n",
      " |    |       |           |         |    |       |              NP                                                         | \n",
      " |    |       |           |         |    |       |         _____|________                                                  |  \n",
      " |    |       |           |         |    |       |        |     |        NP                                                | \n",
      " |    |       |           |         |    |       |        |     |    ____|________                                         |  \n",
      " |    |       |           |         |    |       |        |     |   |             PP                                       | \n",
      " |    |       |           |         |    |       |        |     |   |     ________|_________                               |  \n",
      " |    |       |           |         |    |       |        |     |   |    |                  NP                             | \n",
      " |    |       |           |         |    |       |        |     |   |    |         _________|___                           |  \n",
      " |    |       |           |         |    |       |        |     |   |    |        |             PP                         | \n",
      " |    |       |           |         |    |       |        |     |   |    |        |          ___|______                    |  \n",
      " NP   |       |           NP        |    NP      |        NP    |   NP   |        NP        |          NP                  | \n",
      " |    |       |       ____|____     |    |       |        |     |   |    |    ____|____     |    ______|____________       |  \n",
      "PRP   MD      VB     DT        NN   TO   NN     VBG      NNP    :  PRP$  IN  DT   JJ   NN   IN  DT     NN     CC    NN     . \n",
      " |    |       |      |         |    |    |       |        |     |   |    |   |    |    |    |   |      |      |     |      |  \n",
      " I  would recommend this     hotel  to anyone visiting Chicago  -  its   in the right spot for both business and pleasure  . \n",
      "\n"
     ]
    }
   ],
   "source": [
    "for line in sentences:\n",
    "        for sentence in line:\n",
    "          sentence.pretty_print()            "
   ]
  },
  {
   "cell_type": "code",
   "execution_count": null,
   "metadata": {
    "colab": {},
    "colab_type": "code",
    "id": "E1ZSSFXCixKw"
   },
   "outputs": [],
   "source": [
    "t = next(next(sentences))"
   ]
  },
  {
   "cell_type": "code",
   "execution_count": 12,
   "metadata": {
    "colab": {
     "base_uri": "https://localhost:8080/",
     "height": 34
    },
    "colab_type": "code",
    "executionInfo": {
     "elapsed": 970,
     "status": "ok",
     "timestamp": 1542864147128,
     "user": {
      "displayName": "Bhoomika Panwar",
      "photoUrl": "",
      "userId": "03634057669267038207"
     },
     "user_tz": -330
    },
    "id": "k5k4ZRm-jDEl",
    "outputId": "3200621f-e504-4577-e005-f7b475e0f861"
   },
   "outputs": [
    {
     "data": {
      "text/plain": [
       "nltk.tree.Tree"
      ]
     },
     "execution_count": 12,
     "metadata": {
      "tags": []
     },
     "output_type": "execute_result"
    }
   ],
   "source": [
    "type(t)"
   ]
  },
  {
   "cell_type": "code",
   "execution_count": null,
   "metadata": {
    "colab": {},
    "colab_type": "code",
    "id": "SfTGSKkYmzDL"
   },
   "outputs": [],
   "source": [
    "#print(t)"
   ]
  },
  {
   "cell_type": "code",
   "execution_count": 17,
   "metadata": {
    "colab": {
     "base_uri": "https://localhost:8080/",
     "height": 856
    },
    "colab_type": "code",
    "executionInfo": {
     "elapsed": 1416,
     "status": "ok",
     "timestamp": 1542864741300,
     "user": {
      "displayName": "Bhoomika Panwar",
      "photoUrl": "",
      "userId": "03634057669267038207"
     },
     "user_tz": -330
    },
    "id": "blBG0WO3m0Cp",
    "outputId": "d59f4788-1024-4122-c0c5-2d69314badef"
   },
   "outputs": [
    {
     "name": "stdout",
     "output_type": "stream",
     "text": [
      "                                                                                                                                                                                                                                                           ROOT                                                                                                                                                                                                                                 \n",
      "                                                                                                                                                                                                                                                            |                                                                                                                                                                                                                                    \n",
      "                                                                                                                                                                                                                                                            S                                                                                                                                                                                                                                   \n",
      "                 ___________________________________________________________________________________________________________________________________________________________________________________________________________________________________________|_________________________________________________________________________________________________________________________________________________________________________________________________________________________________   \n",
      "                NP                                                                                                                                                                                                                                                                                                                  |                               |            |                                                                                                            | \n",
      "            ____|________                                                                                                                                                                                                                                                                                                           |                               |            |                                                                                                            |  \n",
      "           |             PP                                                                                                                                                                                                                                                                                                         |                               |            |                                                                                                            | \n",
      "           |          ___|_____________                                                                                                                                                                                                                                                                                             |                               |            |                                                                                                            |  \n",
      "           |         |                 NP                                                                                                                                                                                                                                                                                           |                               |            |                                                                                                            | \n",
      "           |         |        _________|_______________                                                                                                                                                                                                                                                                             |                               |            |                                                                                                            |  \n",
      "           |         |       |                         PP                                                                                                                                                                                                                                                                           |                               |            |                                                                                                            | \n",
      "           |         |       |          _______________|_______________                                                                                                                                                                                                                                                             |                               |            |                                                                                                            |  \n",
      "           |         |       |         |                               NP                                                                                                                                                                                                                                                           |                               |            |                                                                                                            | \n",
      "           |         |       |         |                    ___________|_______________                                                                                                                                                                                                                                             |                               |            |                                                                                                            |  \n",
      "           |         |       |         |                   |                          SBAR                                                                                                                                                                                                                                          |                               |            |                                                                                                            | \n",
      "           |         |       |         |                   |                           |                                                                                                                                                                                                                                            |                               |            |                                                                                                            |  \n",
      "           |         |       |         |                   |                           S                                                                                                                                                                                                                                            |                               |            |                                                                                                            | \n",
      "           |         |       |         |                   |                 __________|_____________                                                                                                                                                                                                                               |                               |            |                                                                                                            |  \n",
      "           |         |       |         |                   |                |                        VP                                                                                                                                                                                                                             |                               |            |                                                                                                            | \n",
      "           |         |       |         |                   |                |     ___________________|___________________________________                                                                                                                                                                                           |                               |            |                                                                                                            |  \n",
      "           |         |       |         |                   |                |    |                                                      SBAR                                                                                                                                                                                        |                               |            |                                                                                                            | \n",
      "           |         |       |         |                   |                |    |      _________________________________________________|_______________________________________________________                                                                                                                                   |                               |            |                                                                                                            |  \n",
      "           |         |       |         |                   |                |    |     |                                                                                                        SINV                                                                                                                                |                               |            VP                                                                                                           | \n",
      "           |         |       |         |                   |                |    |     |              ___________________________________________________________________________________________|____________________________________________________________________________________________________________                      |                               |     _______|______                                                                                                      |  \n",
      "           |         |       |         |                   |                |    |     |             |                                                                            NP                                                                                             |                            |                     |                               |    |              VP                                                                                                    | \n",
      "           |         |       |         |                   |                |    |     |             |                                ____________________________________________|______                                                                                        |                            |                     |                               |    |        ______|___________________                                                                                  |  \n",
      "           |         |       |         |                   |                |    |     |             |                               |                                                  SBAR                                                                                     |                            |                     |                               |    |       |           |              PP                                                                                | \n",
      "           |         |       |         |                   |                |    |     |             |                               |                                                   |                                                                                       |                            |                     |                               |    |       |           |          ____|_______                                                                          |  \n",
      "           |         |       |         |                   |                |    |     |             |                               |                                                   S                                                                                       |                            |                     |                               |    |       |           |         |            NP                                                                        | \n",
      "           |         |       |         |                   |                |    |     |             |                               |         __________________________________________|_______                                                                                |                            |                     |                               |    |       |           |         |     _______|________                                                                 |  \n",
      "           |         |       |         |                   |                |    |     |             |                               |        |                                                  VP                                                                              |                            |                     |                               |    |       |           |         |    |                VP                                                               | \n",
      "           |         |       |         |                   |                |    |     |             |                               |        |    ______________________________________________|_______                                                                        |                            |                     |                               |    |       |           |         |    |        ________|_____                                                           |  \n",
      "           |         |       |         |                   |                |    |     |             |                               |        |   |        |                                            SBAR                                                                     |                            |                     |                               |    |       |           |         |    |       |              NP                                                         | \n",
      "           |         |       |         |                   |                |    |     |             |                               |        |   |        |         ____________________________________|_____                                                                  |                            |                     |                               |    |       |           |         |    |       |         _____|________                                                  |  \n",
      "           |         |       |         |                   |                |    |     |             |                               |        |   |        |        |                                          S                                                                 S                            |                    PRN                              |    |       |           |         |    |       |        |     |        NP                                                | \n",
      "           |         |       |         |                   |                |    |     |             |                               |        |   |        |        |              ____________________________|__________________________________           ____________________|____                        |                     |                               |    |       |           |         |    |       |        |     |    ____|________                                         |  \n",
      "           |         |       |         |                   |                |    |     |             VP                              |        |   |        |        |             |                                     VP                        |         |                         VP                      |                     S                               |    |       |           |         |    |       |        |     |   |             PP                                       | \n",
      "           |         |       |         |                   |                |    |     |     ________|____                           |        |   |        |        |             |                       ______________|______                   |         |                 ________|_____                  |    _________________|___________________________    |    |       |           |         |    |       |        |     |   |     ________|_________                               |  \n",
      "           |         |       |         |                   |                |    |     |    |             NP                         |        |   |        |        |             |                      |                    ADJP                |         |                |              PP                |   |   |                  VP                     |   |    |       |           |         |    |       |        |     |   |    |                  NP                             | \n",
      "           |         |       |         |                   |                |    |     |    |         ____|________                  |        |   |        |        |             |                      |      _______________|____              |         |                |    __________|___              |   |   |     _____________|________              |   |    |       |           |         |    |       |        |     |   |    |         _________|___                           |  \n",
      "           |         |       |         |                   NP               |    |     |    |        |             PP                |        |   |        PP       |             NP                     |     |        |           PP            |         |                |   |              PP            |   |   |    |        |             PP            |   |    |       |           |         |    |       |        |     |   |    |        |             PP                         | \n",
      "           |         |       |         |            _______|_______         |    |     |    |        |          ___|___              |        |   |     ___|___     |        _____|______________        |     |        |       ____|___          |         |                |   |     _________|___          |   |   |    |        |          ___|___          |   |    |       |           |         |    |       |        |     |   |    |        |          ___|______                    |  \n",
      "           NP        |       NP        |           NP              NP       NP   |     |    |        NP        |       NP            NP       NP  |    |       NP   |       NP           |       NP      |     |        |      |        NP        |         NP               |   |    |             NP        |   NP ADVP  |        NP        |       NP        |   NP   |       |           NP        |    NP      |        NP    |   NP   |        NP        |          NP                  | \n",
      "     ______|____     |    ___|____     |      _____|___         ___|___     |    |     |    |    ____|____     |       |       ______|___     |   |    |       |    |    ___|_____       |       |       |     |        |      |     ___|____     |    _____|________        |   |    |      _______|____     |   |   |    |    ____|____     |    ___|____     |   |    |       |       ____|____     |    |       |        |     |   |    |    ____|____     |    ______|____________       |  \n",
      "    JJ          NN   IN  DT       NN   IN   NNP        .       DT      NN  PRP  VBD    IN  VBD  DT   JJ   NN   IN     NNP    NNP         .   PRP VBD   IN     NNP   IN  DT        NN     CC      NN     VBZ    RB       JJ     IN   DT       NN   .  JJS    JJ      NNS     VBP  IN   IN    DT     NNP   NN   .  PRP  RB  VBD  DT   JJ   NN   IN  DT       NN   .  PRP   MD      VB     DT        NN   TO   NN     VBG      NNP    :  PRP$  IN  DT   JJ   NN   IN  DT     NN     CC    NN     . \n",
      "    |           |    |   |        |    |     |         |       |       |    |    |     |    |   |    |    |    |       |      |          |    |   |    |       |    |   |         |      |       |       |     |        |      |    |        |    |   |     |        |       |   |    |     |       |    |    |   |   |    |   |    |    |    |   |        |    |   |    |       |      |         |    |    |       |        |     |   |    |   |    |    |    |   |      |      |     |      |  \n",
      "Excellent     hotel  in the     heart  of Chicago      .      The     room  we stayed  in  had  a  great view  of     Lake Michigan      .    We went  in     July for  a      vacation and  everything  is  easily accesible from the     hotel  .  Most major attractions are  in around the     Loop area  .   We also got  a  great deal  on the     price  .   I  would recommend this     hotel  to anyone visiting Chicago  -  its   in the right spot for both business and pleasure  . \n",
      "\n"
     ]
    }
   ],
   "source": [
    "t.pretty_print()"
   ]
  },
  {
   "cell_type": "code",
   "execution_count": null,
   "metadata": {
    "colab": {
     "base_uri": "https://localhost:8080/",
     "height": 586
    },
    "colab_type": "code",
    "executionInfo": {
     "elapsed": 1001,
     "status": "ok",
     "timestamp": 1542524353708,
     "user": {
      "displayName": "Shivam Agarwal",
      "photoUrl": "https://lh6.googleusercontent.com/-6-nOHXVzsAQ/AAAAAAAAAAI/AAAAAAAAAAg/5NUhouRO4AM/s64/photo.jpg",
      "userId": "03200208197551556606"
     },
     "user_tz": -330
    },
    "id": "PaWYx9hGnLO2",
    "outputId": "0cb6a9fb-41db-40fe-f607-b6d904611426"
   },
   "outputs": [
    {
     "name": "stdout",
     "output_type": "stream",
     "text": [
      "Label: S\n",
      "Label: S\n",
      "Label: INTJ\n",
      "Label: UH\n",
      "Label: NP\n",
      "Label: PRP$\n",
      "Label: NN\n",
      "Label: VP\n",
      "Label: VBZ\n",
      "Label: NP\n",
      "Label: NP\n",
      "Label: NNP\n",
      "Label: .\n",
      "Label: SBAR\n",
      "Label: S\n",
      "Label: NP\n",
      "Label: DT\n",
      "Label: VP\n",
      "Label: VBZ\n",
      "Label: VP\n",
      "Label: VBN\n",
      "Label: NP\n",
      "Label: NN\n",
      "Label: ADVP\n",
      "Label: RB\n",
      "Label: .\n",
      "Label: NP\n",
      "Label: NNP\n",
      "Label: VP\n",
      "Label: VBP\n",
      "Label: .\n"
     ]
    }
   ],
   "source": [
    "getNodes(t)"
   ]
  },
  {
   "cell_type": "code",
   "execution_count": null,
   "metadata": {
    "colab": {},
    "colab_type": "code",
    "id": "6l8mEVmayPWu"
   },
   "outputs": [],
   "source": [
    "import networkx as nx"
   ]
  },
  {
   "cell_type": "code",
   "execution_count": null,
   "metadata": {
    "colab": {},
    "colab_type": "code",
    "id": "ryAqBuo68kKD"
   },
   "outputs": [],
   "source": [
    "g = nx.Graph()"
   ]
  },
  {
   "cell_type": "code",
   "execution_count": null,
   "metadata": {
    "colab": {},
    "colab_type": "code",
    "id": "7trqjkEL8oGz"
   },
   "outputs": [],
   "source": [
    "g.add_edges_from([('S','NP'),('NP','VP'),('S','NP'),(\"S\",\"VP\")])"
   ]
  },
  {
   "cell_type": "code",
   "execution_count": null,
   "metadata": {
    "colab": {},
    "colab_type": "code",
    "id": "trWF8rhY8sDZ"
   },
   "outputs": [],
   "source": [
    "import matplotlib.pyplot as plt"
   ]
  },
  {
   "cell_type": "code",
   "execution_count": 23,
   "metadata": {
    "colab": {
     "base_uri": "https://localhost:8080/",
     "height": 443
    },
    "colab_type": "code",
    "executionInfo": {
     "elapsed": 1053,
     "status": "ok",
     "timestamp": 1542865415436,
     "user": {
      "displayName": "Bhoomika Panwar",
      "photoUrl": "",
      "userId": "03634057669267038207"
     },
     "user_tz": -330
    },
    "id": "tEE-qqJ98yJO",
    "outputId": "bd8135ba-aee2-49b0-8504-c46676375892"
   },
   "outputs": [
    {
     "data": {
      "image/png": "[encoded data removed]",
      "text/plain": [
       "<matplotlib.figure.Figure at 0x7fbd6c9e3390>"
      ]
     },
     "metadata": {
      "tags": []
     },
     "output_type": "display_data"
    }
   ],
   "source": [
    "nx.draw(g,with_labels=True)\n",
    "plt.show()"
   ]
  },
  {
   "cell_type": "code",
   "execution_count": null,
   "metadata": {
    "colab": {},
    "colab_type": "code",
    "id": "Hv8gqDUK85Vi"
   },
   "outputs": [],
   "source": []
  }
 ],
 "metadata": {
  "accelerator": "GPU",
  "colab": {
   "name": "standford_parser.ipynb",
   "provenance": [],
   "version": "0.3.2"
  },
  "kernelspec": {
   "display_name": "Python 3",
   "language": "python",
   "name": "python3"
  },
  "language_info": {
   "codemirror_mode": {
    "name": "ipython",
    "version": 3
   },
   "file_extension": ".py",
   "mimetype": "text/x-python",
   "name": "python",
   "nbconvert_exporter": "python",
   "pygments_lexer": "ipython3",
   "version": "3.6.5"
  }
 },
 "nbformat": 4,
 "nbformat_minor": 2
}
